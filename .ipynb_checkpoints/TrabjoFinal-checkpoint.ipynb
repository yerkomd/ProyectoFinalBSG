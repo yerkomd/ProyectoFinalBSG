{
 "cells": [
  {
   "cell_type": "markdown",
   "id": "0fe1a723-d672-4e3a-bb53-021c5e5c2feb",
   "metadata": {},
   "source": [
    "\n",
    " Proyeto:  Proyecto de aplicación practica Fianl \n",
    " Obj:      El objetivo del proyecto es identificar a pacientes con potenciales problemas de salud\n",
    " author:   Yerko Alejandro Melgar Dellien\n"
   ]
  },
  {
   "cell_type": "code",
   "execution_count": 3,
   "id": "bba833e9-6e35-42e4-8bb1-aafa5eed4093",
   "metadata": {
    "tags": []
   },
   "outputs": [],
   "source": [
    "import pandas as pd"
   ]
  },
  {
   "cell_type": "markdown",
   "id": "dfacafd1-41a3-45ee-b750-f7423886448b",
   "metadata": {},
   "source": [
    "Realizamos la lectura de los datos"
   ]
  },
  {
   "cell_type": "code",
   "execution_count": null,
   "id": "61931171-1f42-42b3-99cc-aa02c70e3c1f",
   "metadata": {},
   "outputs": [],
   "source": []
  },
  {
   "cell_type": "code",
   "execution_count": null,
   "id": "4e057190-692f-41d0-8d0b-7e251ec06701",
   "metadata": {},
   "outputs": [],
   "source": []
  },
  {
   "cell_type": "code",
   "execution_count": null,
   "id": "916959c0-fcc3-4736-a756-fe8d900d2a09",
   "metadata": {},
   "outputs": [],
   "source": []
  }
 ],
 "metadata": {
  "kernelspec": {
   "display_name": "Python 3 (ipykernel)",
   "language": "python",
   "name": "python3"
  },
  "language_info": {
   "codemirror_mode": {
    "name": "ipython",
    "version": 3
   },
   "file_extension": ".py",
   "mimetype": "text/x-python",
   "name": "python",
   "nbconvert_exporter": "python",
   "pygments_lexer": "ipython3",
   "version": "3.9.16"
  }
 },
 "nbformat": 4,
 "nbformat_minor": 5
}
