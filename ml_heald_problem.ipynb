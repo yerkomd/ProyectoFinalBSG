{
 "cells": [
  {
   "cell_type": "markdown",
   "id": "0fe1a723-d672-4e3a-bb53-021c5e5c2feb",
   "metadata": {},
   "source": [
    "\n",
    " Proyeto:  Proyecto de aplicación practica Fianl \n",
    " Obj:      El objetivo del proyecto es identificar a pacientes con potenciales problemas de salud\n",
    " author:   Yerko Alejandro Melgar Dellien\n"
   ]
  },
  {
   "cell_type": "code",
   "execution_count": 1,
   "id": "bba833e9-6e35-42e4-8bb1-aafa5eed4093",
   "metadata": {
    "tags": []
   },
   "outputs": [],
   "source": [
    "import pandas as pd\n",
    "import numpy as np\n",
    "import os"
   ]
  },
  {
   "cell_type": "markdown",
   "id": "dfacafd1-41a3-45ee-b750-f7423886448b",
   "metadata": {},
   "source": [
    "Realizamos la lectura de los datos"
   ]
  },
  {
   "cell_type": "code",
   "execution_count": 2,
   "id": "61931171-1f42-42b3-99cc-aa02c70e3c1f",
   "metadata": {
    "tags": []
   },
   "outputs": [
    {
     "name": "stdout",
     "output_type": "stream",
     "text": [
      "/home/DrAkNeT/Developer/MachineLearning/ProyectoFinalBSG/datos/Weight_Height.csv\n",
      "/home/DrAkNeT/Developer/MachineLearning/ProyectoFinalBSG/datos/Oximetry.csv\n",
      "/home/DrAkNeT/Developer/MachineLearning/ProyectoFinalBSG/datos/Glucose.csv\n",
      "/home/DrAkNeT/Developer/MachineLearning/ProyectoFinalBSG/datos/bloodPressure.csv\n"
     ]
    }
   ],
   "source": [
    "for dirname, _, filenames in os.walk('/home/DrAkNeT/Developer/MachineLearning/ProyectoFinalBSG/datos'):\n",
    "    for filename in filenames:\n",
    "        print(os.path.join(dirname, filename))"
   ]
  },
  {
   "cell_type": "code",
   "execution_count": 3,
   "id": "4e057190-692f-41d0-8d0b-7e251ec06701",
   "metadata": {
    "tags": []
   },
   "outputs": [],
   "source": [
    "# Load the data\n",
    "Glucose_file_path = '/home/DrAkNeT/Developer/MachineLearning/ProyectoFinalBSG/datos/Glucose.csv'\n",
    "BloodPressure_file_path = '/home/DrAkNeT/Developer/MachineLearning/ProyectoFinalBSG/datos/bloodPressure.csv'\n",
    "Oximetry_file_path = '/home/DrAkNeT/Developer/MachineLearning/ProyectoFinalBSG/datos/Oximetry.csv'\n",
    "Weight_Height_file_path = '/home/DrAkNeT/Developer/MachineLearning/ProyectoFinalBSG/datos/Weight_Height.csv'\n",
    "# -------------------------------------------------------------------\n",
    "glucose_date = pd.read_csv(Glucose_file_path)\n",
    "BloodPressure_date = pd.read_csv(BloodPressure_file_path)\n",
    "Oximetry_date = pd.read_csv(Oximetry_file_path)\n",
    "Weight_Height_date = pd.read_csv(Weight_Height_file_path)"
   ]
  },
  {
   "cell_type": "code",
   "execution_count": 4,
   "id": "916959c0-fcc3-4736-a756-fe8d900d2a09",
   "metadata": {
    "tags": []
   },
   "outputs": [
    {
     "data": {
      "text/html": [
       "<div>\n",
       "<style scoped>\n",
       "    .dataframe tbody tr th:only-of-type {\n",
       "        vertical-align: middle;\n",
       "    }\n",
       "\n",
       "    .dataframe tbody tr th {\n",
       "        vertical-align: top;\n",
       "    }\n",
       "\n",
       "    .dataframe thead th {\n",
       "        text-align: right;\n",
       "    }\n",
       "</style>\n",
       "<table border=\"1\" class=\"dataframe\">\n",
       "  <thead>\n",
       "    <tr style=\"text-align: right;\">\n",
       "      <th></th>\n",
       "      <th>Patient</th>\n",
       "      <th>Systolic</th>\n",
       "      <th>Diastolic</th>\n",
       "      <th>AvBloodPressure</th>\n",
       "      <th>HeartRate</th>\n",
       "    </tr>\n",
       "  </thead>\n",
       "  <tbody>\n",
       "    <tr>\n",
       "      <th>count</th>\n",
       "      <td>10167.000000</td>\n",
       "      <td>10167.000000</td>\n",
       "      <td>10167.000000</td>\n",
       "      <td>10167.000000</td>\n",
       "      <td>10167.000000</td>\n",
       "    </tr>\n",
       "    <tr>\n",
       "      <th>mean</th>\n",
       "      <td>720.164552</td>\n",
       "      <td>112.789122</td>\n",
       "      <td>73.379168</td>\n",
       "      <td>110.547556</td>\n",
       "      <td>80.003934</td>\n",
       "    </tr>\n",
       "    <tr>\n",
       "      <th>std</th>\n",
       "      <td>425.768799</td>\n",
       "      <td>17.958457</td>\n",
       "      <td>12.776531</td>\n",
       "      <td>21.089970</td>\n",
       "      <td>16.712636</td>\n",
       "    </tr>\n",
       "    <tr>\n",
       "      <th>min</th>\n",
       "      <td>1.000000</td>\n",
       "      <td>0.000000</td>\n",
       "      <td>0.000000</td>\n",
       "      <td>0.000000</td>\n",
       "      <td>0.000000</td>\n",
       "    </tr>\n",
       "    <tr>\n",
       "      <th>25%</th>\n",
       "      <td>420.000000</td>\n",
       "      <td>99.000000</td>\n",
       "      <td>63.000000</td>\n",
       "      <td>92.000000</td>\n",
       "      <td>67.000000</td>\n",
       "    </tr>\n",
       "    <tr>\n",
       "      <th>50%</th>\n",
       "      <td>730.000000</td>\n",
       "      <td>113.000000</td>\n",
       "      <td>74.000000</td>\n",
       "      <td>108.000000</td>\n",
       "      <td>80.000000</td>\n",
       "    </tr>\n",
       "    <tr>\n",
       "      <th>75%</th>\n",
       "      <td>1073.000000</td>\n",
       "      <td>127.000000</td>\n",
       "      <td>84.000000</td>\n",
       "      <td>129.000000</td>\n",
       "      <td>93.000000</td>\n",
       "    </tr>\n",
       "    <tr>\n",
       "      <th>max</th>\n",
       "      <td>1453.000000</td>\n",
       "      <td>187.000000</td>\n",
       "      <td>118.000000</td>\n",
       "      <td>149.000000</td>\n",
       "      <td>183.000000</td>\n",
       "    </tr>\n",
       "  </tbody>\n",
       "</table>\n",
       "</div>"
      ],
      "text/plain": [
       "            Patient      Systolic     Diastolic  AvBloodPressure     HeartRate\n",
       "count  10167.000000  10167.000000  10167.000000     10167.000000  10167.000000\n",
       "mean     720.164552    112.789122     73.379168       110.547556     80.003934\n",
       "std      425.768799     17.958457     12.776531        21.089970     16.712636\n",
       "min        1.000000      0.000000      0.000000         0.000000      0.000000\n",
       "25%      420.000000     99.000000     63.000000        92.000000     67.000000\n",
       "50%      730.000000    113.000000     74.000000       108.000000     80.000000\n",
       "75%     1073.000000    127.000000     84.000000       129.000000     93.000000\n",
       "max     1453.000000    187.000000    118.000000       149.000000    183.000000"
      ]
     },
     "execution_count": 4,
     "metadata": {},
     "output_type": "execute_result"
    }
   ],
   "source": [
    "BloodPressure_date.describe()"
   ]
  },
  {
   "cell_type": "code",
   "execution_count": 8,
   "id": "a3cec48e-5a5f-43ae-85eb-1772393c41d7",
   "metadata": {
    "tags": []
   },
   "outputs": [
    {
     "data": {
      "text/html": [
       "<div>\n",
       "<style scoped>\n",
       "    .dataframe tbody tr th:only-of-type {\n",
       "        vertical-align: middle;\n",
       "    }\n",
       "\n",
       "    .dataframe tbody tr th {\n",
       "        vertical-align: top;\n",
       "    }\n",
       "\n",
       "    .dataframe thead th {\n",
       "        text-align: right;\n",
       "    }\n",
       "</style>\n",
       "<table border=\"1\" class=\"dataframe\">\n",
       "  <thead>\n",
       "    <tr style=\"text-align: right;\">\n",
       "      <th></th>\n",
       "      <th>Patient</th>\n",
       "      <th>SpO2</th>\n",
       "      <th>HeartRate</th>\n",
       "    </tr>\n",
       "  </thead>\n",
       "  <tbody>\n",
       "    <tr>\n",
       "      <th>count</th>\n",
       "      <td>9872.000000</td>\n",
       "      <td>9872.000000</td>\n",
       "      <td>9872.000000</td>\n",
       "    </tr>\n",
       "    <tr>\n",
       "      <th>mean</th>\n",
       "      <td>739.808043</td>\n",
       "      <td>81.937399</td>\n",
       "      <td>80.360616</td>\n",
       "    </tr>\n",
       "    <tr>\n",
       "      <th>std</th>\n",
       "      <td>416.432365</td>\n",
       "      <td>12.095177</td>\n",
       "      <td>17.587560</td>\n",
       "    </tr>\n",
       "    <tr>\n",
       "      <th>min</th>\n",
       "      <td>1.000000</td>\n",
       "      <td>44.000000</td>\n",
       "      <td>44.000000</td>\n",
       "    </tr>\n",
       "    <tr>\n",
       "      <th>25%</th>\n",
       "      <td>438.000000</td>\n",
       "      <td>71.000000</td>\n",
       "      <td>66.000000</td>\n",
       "    </tr>\n",
       "    <tr>\n",
       "      <th>50%</th>\n",
       "      <td>749.000000</td>\n",
       "      <td>83.000000</td>\n",
       "      <td>80.000000</td>\n",
       "    </tr>\n",
       "    <tr>\n",
       "      <th>75%</th>\n",
       "      <td>1082.000000</td>\n",
       "      <td>94.000000</td>\n",
       "      <td>94.000000</td>\n",
       "    </tr>\n",
       "    <tr>\n",
       "      <th>max</th>\n",
       "      <td>1453.000000</td>\n",
       "      <td>100.000000</td>\n",
       "      <td>217.000000</td>\n",
       "    </tr>\n",
       "  </tbody>\n",
       "</table>\n",
       "</div>"
      ],
      "text/plain": [
       "           Patient         SpO2    HeartRate\n",
       "count  9872.000000  9872.000000  9872.000000\n",
       "mean    739.808043    81.937399    80.360616\n",
       "std     416.432365    12.095177    17.587560\n",
       "min       1.000000    44.000000    44.000000\n",
       "25%     438.000000    71.000000    66.000000\n",
       "50%     749.000000    83.000000    80.000000\n",
       "75%    1082.000000    94.000000    94.000000\n",
       "max    1453.000000   100.000000   217.000000"
      ]
     },
     "execution_count": 8,
     "metadata": {},
     "output_type": "execute_result"
    }
   ],
   "source": [
    "Oximetry_date.describe()"
   ]
  },
  {
   "cell_type": "code",
   "execution_count": 9,
   "id": "483152b2-a717-4b4d-b894-8b56bc9d6062",
   "metadata": {
    "tags": []
   },
   "outputs": [
    {
     "data": {
      "text/html": [
       "<div>\n",
       "<style scoped>\n",
       "    .dataframe tbody tr th:only-of-type {\n",
       "        vertical-align: middle;\n",
       "    }\n",
       "\n",
       "    .dataframe tbody tr th {\n",
       "        vertical-align: top;\n",
       "    }\n",
       "\n",
       "    .dataframe thead th {\n",
       "        text-align: right;\n",
       "    }\n",
       "</style>\n",
       "<table border=\"1\" class=\"dataframe\">\n",
       "  <thead>\n",
       "    <tr style=\"text-align: right;\">\n",
       "      <th></th>\n",
       "      <th>Patient</th>\n",
       "      <th>Weight</th>\n",
       "      <th>Height</th>\n",
       "      <th>IMC</th>\n",
       "    </tr>\n",
       "  </thead>\n",
       "  <tbody>\n",
       "    <tr>\n",
       "      <th>count</th>\n",
       "      <td>10170.000000</td>\n",
       "      <td>10170.000000</td>\n",
       "      <td>10170.000000</td>\n",
       "      <td>10170.000000</td>\n",
       "    </tr>\n",
       "    <tr>\n",
       "      <th>mean</th>\n",
       "      <td>719.586627</td>\n",
       "      <td>81.167549</td>\n",
       "      <td>1.726155</td>\n",
       "      <td>27.834825</td>\n",
       "    </tr>\n",
       "    <tr>\n",
       "      <th>std</th>\n",
       "      <td>425.889730</td>\n",
       "      <td>22.310746</td>\n",
       "      <td>0.158504</td>\n",
       "      <td>9.019599</td>\n",
       "    </tr>\n",
       "    <tr>\n",
       "      <th>min</th>\n",
       "      <td>1.000000</td>\n",
       "      <td>-9.700000</td>\n",
       "      <td>1.450000</td>\n",
       "      <td>-4.200000</td>\n",
       "    </tr>\n",
       "    <tr>\n",
       "      <th>25%</th>\n",
       "      <td>418.250000</td>\n",
       "      <td>65.370000</td>\n",
       "      <td>1.600000</td>\n",
       "      <td>21.610000</td>\n",
       "    </tr>\n",
       "    <tr>\n",
       "      <th>50%</th>\n",
       "      <td>730.000000</td>\n",
       "      <td>80.000000</td>\n",
       "      <td>1.720000</td>\n",
       "      <td>26.910000</td>\n",
       "    </tr>\n",
       "    <tr>\n",
       "      <th>75%</th>\n",
       "      <td>1072.000000</td>\n",
       "      <td>98.850000</td>\n",
       "      <td>1.850000</td>\n",
       "      <td>33.410000</td>\n",
       "    </tr>\n",
       "    <tr>\n",
       "      <th>max</th>\n",
       "      <td>1453.000000</td>\n",
       "      <td>172.000000</td>\n",
       "      <td>6.520000</td>\n",
       "      <td>56.560000</td>\n",
       "    </tr>\n",
       "  </tbody>\n",
       "</table>\n",
       "</div>"
      ],
      "text/plain": [
       "            Patient        Weight        Height          IMC \n",
       "count  10170.000000  10170.000000  10170.000000  10170.000000\n",
       "mean     719.586627     81.167549      1.726155     27.834825\n",
       "std      425.889730     22.310746      0.158504      9.019599\n",
       "min        1.000000     -9.700000      1.450000     -4.200000\n",
       "25%      418.250000     65.370000      1.600000     21.610000\n",
       "50%      730.000000     80.000000      1.720000     26.910000\n",
       "75%     1072.000000     98.850000      1.850000     33.410000\n",
       "max     1453.000000    172.000000      6.520000     56.560000"
      ]
     },
     "execution_count": 9,
     "metadata": {},
     "output_type": "execute_result"
    }
   ],
   "source": [
    "Weight_Height_date.describe()"
   ]
  },
  {
   "cell_type": "code",
   "execution_count": 10,
   "id": "e30ae76a-d129-41cd-a43d-438efdf7247a",
   "metadata": {
    "tags": []
   },
   "outputs": [
    {
     "data": {
      "text/html": [
       "<div>\n",
       "<style scoped>\n",
       "    .dataframe tbody tr th:only-of-type {\n",
       "        vertical-align: middle;\n",
       "    }\n",
       "\n",
       "    .dataframe tbody tr th {\n",
       "        vertical-align: top;\n",
       "    }\n",
       "\n",
       "    .dataframe thead th {\n",
       "        text-align: right;\n",
       "    }\n",
       "</style>\n",
       "<table border=\"1\" class=\"dataframe\">\n",
       "  <thead>\n",
       "    <tr style=\"text-align: right;\">\n",
       "      <th></th>\n",
       "      <th>Patient</th>\n",
       "      <th>Glucose</th>\n",
       "    </tr>\n",
       "  </thead>\n",
       "  <tbody>\n",
       "    <tr>\n",
       "      <th>count</th>\n",
       "      <td>10074.000000</td>\n",
       "      <td>10074.000000</td>\n",
       "    </tr>\n",
       "    <tr>\n",
       "      <th>mean</th>\n",
       "      <td>726.156641</td>\n",
       "      <td>105.629244</td>\n",
       "    </tr>\n",
       "    <tr>\n",
       "      <th>std</th>\n",
       "      <td>423.092712</td>\n",
       "      <td>29.136298</td>\n",
       "    </tr>\n",
       "    <tr>\n",
       "      <th>min</th>\n",
       "      <td>1.000000</td>\n",
       "      <td>51.000000</td>\n",
       "    </tr>\n",
       "    <tr>\n",
       "      <th>25%</th>\n",
       "      <td>426.000000</td>\n",
       "      <td>82.000000</td>\n",
       "    </tr>\n",
       "    <tr>\n",
       "      <th>50%</th>\n",
       "      <td>736.000000</td>\n",
       "      <td>102.000000</td>\n",
       "    </tr>\n",
       "    <tr>\n",
       "      <th>75%</th>\n",
       "      <td>1076.000000</td>\n",
       "      <td>127.000000</td>\n",
       "    </tr>\n",
       "    <tr>\n",
       "      <th>max</th>\n",
       "      <td>1453.000000</td>\n",
       "      <td>207.000000</td>\n",
       "    </tr>\n",
       "  </tbody>\n",
       "</table>\n",
       "</div>"
      ],
      "text/plain": [
       "            Patient       Glucose\n",
       "count  10074.000000  10074.000000\n",
       "mean     726.156641    105.629244\n",
       "std      423.092712     29.136298\n",
       "min        1.000000     51.000000\n",
       "25%      426.000000     82.000000\n",
       "50%      736.000000    102.000000\n",
       "75%     1076.000000    127.000000\n",
       "max     1453.000000    207.000000"
      ]
     },
     "execution_count": 10,
     "metadata": {},
     "output_type": "execute_result"
    }
   ],
   "source": [
    "glucose_date.describe()"
   ]
  },
  {
   "cell_type": "markdown",
   "id": "7aeb2c6c-8006-405d-afef-84b65e4ebe61",
   "metadata": {
    "tags": []
   },
   "source": [
    "# Limpieza de datos"
   ]
  },
  {
   "cell_type": "code",
   "execution_count": null,
   "id": "a164d4a7-bf8e-49af-8511-3e0691e23fa0",
   "metadata": {},
   "outputs": [
    {
     "name": "stdout",
     "output_type": "stream",
     "text": [
      "<class 'pandas.core.frame.DataFrame'>\n",
      "RangeIndex: 10074 entries, 0 to 10073\n",
      "Data columns (total 3 columns):\n",
      " #   Column   Non-Null Count  Dtype \n",
      "---  ------   --------------  ----- \n",
      " 0   Patient  10074 non-null  int64 \n",
      " 1   Glucose  10074 non-null  int64 \n",
      " 2   Date     10074 non-null  object\n",
      "dtypes: int64(2), object(1)\n",
      "memory usage: 236.2+ KB\n"
     ]
    }
   ],
   "source": [
    "glucose_date.info()"
   ]
  },
  {
   "cell_type": "code",
   "execution_count": null,
   "id": "0a8ddb74-159c-4727-9771-9976f87d4dac",
   "metadata": {},
   "outputs": [],
   "source": [
    "glucose_date"
   ]
  },
  {
   "cell_type": "code",
   "execution_count": null,
   "id": "5ab1a2d8-40a9-472d-8aa3-8fab45518b2d",
   "metadata": {},
   "outputs": [],
   "source": []
  }
 ],
 "metadata": {
  "kernelspec": {
   "display_name": "Python 3 (ipykernel)",
   "language": "python",
   "name": "python3"
  },
  "language_info": {
   "codemirror_mode": {
    "name": "ipython",
    "version": 3
   },
   "file_extension": ".py",
   "mimetype": "text/x-python",
   "name": "python",
   "nbconvert_exporter": "python",
   "pygments_lexer": "ipython3",
   "version": "3.9.17"
  }
 },
 "nbformat": 4,
 "nbformat_minor": 5
}
